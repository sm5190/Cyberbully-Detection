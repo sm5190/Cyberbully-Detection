{
 "cells": [
  {
   "cell_type": "code",
   "execution_count": 1,
   "metadata": {},
   "outputs": [
    {
     "name": "stdout",
     "output_type": "stream",
     "text": [
      "Collecting tweet-preprocessor\n",
      "  Downloading tweet_preprocessor-0.6.0-py3-none-any.whl (27 kB)\n",
      "Installing collected packages: tweet-preprocessor\n",
      "Successfully installed tweet-preprocessor-0.6.0\n"
     ]
    }
   ],
   "source": [
    "!pip install tweet-preprocessor"
   ]
  },
  {
   "cell_type": "code",
   "execution_count": 103,
   "metadata": {},
   "outputs": [],
   "source": [
    "import random\n",
    "\n",
    "index = [i for i in range(df.shape[0])]\n",
    "random.shuffle(index)\n",
    "df=df.set_index([index]).sort_index()"
   ]
  },
  {
   "cell_type": "code",
   "execution_count": 104,
   "metadata": {},
   "outputs": [
    {
     "data": {
      "text/html": [
       "<div>\n",
       "<style scoped>\n",
       "    .dataframe tbody tr th:only-of-type {\n",
       "        vertical-align: middle;\n",
       "    }\n",
       "\n",
       "    .dataframe tbody tr th {\n",
       "        vertical-align: top;\n",
       "    }\n",
       "\n",
       "    .dataframe thead th {\n",
       "        text-align: right;\n",
       "    }\n",
       "</style>\n",
       "<table border=\"1\" class=\"dataframe\">\n",
       "  <thead>\n",
       "    <tr style=\"text-align: right;\">\n",
       "      <th></th>\n",
       "      <th>Datetime</th>\n",
       "      <th>Text</th>\n",
       "    </tr>\n",
       "  </thead>\n",
       "  <tbody>\n",
       "    <tr>\n",
       "      <th>0</th>\n",
       "      <td>2021-05-15 14:19:05+00:00</td>\n",
       "      <td>Israel is considering journalism as a terroris...</td>\n",
       "    </tr>\n",
       "    <tr>\n",
       "      <th>1</th>\n",
       "      <td>2021-05-29 01:53:52+00:00</td>\n",
       "      <td>I'd like to suck your dick.....after i eat you...</td>\n",
       "    </tr>\n",
       "    <tr>\n",
       "      <th>2</th>\n",
       "      <td>2021-05-12 10:07:22+00:00</td>\n",
       "      <td>The terrorist state of Israel is killing innoc...</td>\n",
       "    </tr>\n",
       "    <tr>\n",
       "      <th>3</th>\n",
       "      <td>2021-05-31 15:20:04+00:00</td>\n",
       "      <td>Wait what the fuck youre alive</td>\n",
       "    </tr>\n",
       "    <tr>\n",
       "      <th>4</th>\n",
       "      <td>2021-04-25 13:43:38+00:00</td>\n",
       "      <td>Yeah but in this case why should a murdered ma...</td>\n",
       "    </tr>\n",
       "  </tbody>\n",
       "</table>\n",
       "</div>"
      ],
      "text/plain": [
       "                    Datetime  \\\n",
       "0  2021-05-15 14:19:05+00:00   \n",
       "1  2021-05-29 01:53:52+00:00   \n",
       "2  2021-05-12 10:07:22+00:00   \n",
       "3  2021-05-31 15:20:04+00:00   \n",
       "4  2021-04-25 13:43:38+00:00   \n",
       "\n",
       "                                                Text  \n",
       "0  Israel is considering journalism as a terroris...  \n",
       "1  I'd like to suck your dick.....after i eat you...  \n",
       "2  The terrorist state of Israel is killing innoc...  \n",
       "3                     Wait what the fuck youre alive  \n",
       "4  Yeah but in this case why should a murdered ma...  "
      ]
     },
     "execution_count": 104,
     "metadata": {},
     "output_type": "execute_result"
    }
   ],
   "source": [
    "df.head()"
   ]
  },
  {
   "cell_type": "code",
   "execution_count": 1,
   "metadata": {},
   "outputs": [],
   "source": [
    "import preprocessor as p\n",
    "import numpy as np # linear algebra\n",
    "import pandas as pd "
   ]
  },
  {
   "cell_type": "code",
   "execution_count": 105,
   "metadata": {},
   "outputs": [
    {
     "name": "stdout",
     "output_type": "stream",
     "text": [
      "                         Datetime  \\\n",
      "564895  2021-05-18 10:57:01+00:00   \n",
      "269893  2021-04-24 10:31:49+00:00   \n",
      "348797  2021-05-17 14:31:13+00:00   \n",
      "274870  2021-05-15 18:04:25+00:00   \n",
      "168813  2021-04-18 05:13:07+00:00   \n",
      "...                           ...   \n",
      "161389  2021-05-15 11:02:57+00:00   \n",
      "377850  2021-04-28 20:37:17+00:00   \n",
      "35702   2021-05-17 04:26:54+00:00   \n",
      "353051  2021-05-12 20:38:06+00:00   \n",
      "527921  2021-05-28 06:08:04+00:00   \n",
      "\n",
      "                                                     Text  \n",
      "564895                             Pel daalo gaddaron ko.  \n",
      "269893  I dont care niggas that punch walls cant handl...  \n",
      "348797                      Somewhere in Belfast, Ireland  \n",
      "274870  Do you live in India? That's not true. Most ur...  \n",
      "168813  Fuxkin facts but we been known that i cant sta...  \n",
      "...                                                   ...  \n",
      "161389                           Help your country first!  \n",
      "377850  \"my feminism was always about expanding\" Yes! ...  \n",
      "35702   Some of you have flags for jordan instead of p...  \n",
      "353051  Eid Mubarak To All .May Allah bless you .Don't...  \n",
      "527921  So much dick walking around. What a cock fest ...  \n",
      "\n",
      "[596697 rows x 2 columns]\n"
     ]
    }
   ],
   "source": [
    "import sklearn\n",
    "df=sklearn.utils.shuffle(df)\n",
    "print(df)\n",
    "  "
   ]
  },
  {
   "cell_type": "code",
   "execution_count": 83,
   "metadata": {},
   "outputs": [
    {
     "name": "stderr",
     "output_type": "stream",
     "text": [
      "E:\\Anaconda\\lib\\site-packages\\IPython\\core\\interactiveshell.py:3146: DtypeWarning: Columns (0) have mixed types.Specify dtype option on import or set low_memory=False.\n",
      "  has_raised = await self.run_ast_nodes(code_ast.body, cell_name,\n"
     ]
    }
   ],
   "source": [
    "df = pd.read_csv('/Users/Asus/Desktop/THESIS/blm_tweet_USA.csv')\n",
    "##df=df.tail(n=250)\n",
    "df1=pd.read_csv('/Users/Asus/Desktop/THESIS/feminism_tweets.csv')\n",
    "#df1=df1.tail(n=450)\n",
    "df2=pd.read_csv('/Users/Asus/Desktop/THESIS/LGBT_BD.csv')\n",
    "#df2=df2.tail(n=250)\n",
    "df3=pd.read_csv('/Users/Asus/Desktop/THESIS/nigga_tweets.csv')\n",
    "#df3=df3.tail(n=450)\n",
    "df4=pd.read_csv('/Users/Asus/Desktop/THESIS/trump_USA.csv')\n",
    "#df4=df4.tail(n=250)\n",
    "df5=pd.read_csv('/Users/Asus/Desktop/THESIS/Slangs.csv')\n",
    "df6=pd.read_csv('/Users/Asus/Desktop/THESIS/Slangs2.csv')\n",
    "df7=pd.read_csv('/Users/Asus/Desktop/THESIS/fairnlovely_tweets.csv')\n",
    "df8=pd.read_csv('/Users/Asus/Desktop/THESIS/mysogyny_tweets.csv')\n",
    "df9=pd.read_csv('/Users/Asus/Desktop/THESIS/Palestine_Israel.csv')\n",
    "df10=pd.read_csv('/Users/Asus/Desktop/THESIS/Palestine_Israel2.csv')\n",
    "df11=pd.read_csv('/Users/Asus/Desktop/THESIS/mysogynist_tweets.csv')\n",
    "#df5=df5.tail(n=250)\n",
    "\n"
   ]
  },
  {
   "cell_type": "code",
   "execution_count": 85,
   "metadata": {},
   "outputs": [],
   "source": [
    "df= pd.concat([df1,df2,df3,df4,df5,df6,df7,df8,df9,df10,df11],ignore_index=True)\n",
    "\n"
   ]
  },
  {
   "cell_type": "code",
   "execution_count": null,
   "metadata": {},
   "outputs": [],
   "source": []
  },
  {
   "cell_type": "code",
   "execution_count": 86,
   "metadata": {},
   "outputs": [
    {
     "data": {
      "text/plain": [
       "Unnamed: 0    739202\n",
       "Datetime      739196\n",
       "Text          739196\n",
       "dtype: int64"
      ]
     },
     "execution_count": 86,
     "metadata": {},
     "output_type": "execute_result"
    }
   ],
   "source": [
    "df.count()"
   ]
  },
  {
   "cell_type": "code",
   "execution_count": 96,
   "metadata": {},
   "outputs": [],
   "source": [
    "df =df.dropna()\n",
    "df = df.drop_duplicates()"
   ]
  },
  {
   "cell_type": "code",
   "execution_count": 97,
   "metadata": {},
   "outputs": [
    {
     "data": {
      "text/plain": [
       "Datetime    596697\n",
       "Text        596697\n",
       "dtype: int64"
      ]
     },
     "execution_count": 97,
     "metadata": {},
     "output_type": "execute_result"
    }
   ],
   "source": [
    "df.count()"
   ]
  },
  {
   "cell_type": "code",
   "execution_count": 61,
   "metadata": {},
   "outputs": [
    {
     "data": {
      "text/html": [
       "<div>\n",
       "<style scoped>\n",
       "    .dataframe tbody tr th:only-of-type {\n",
       "        vertical-align: middle;\n",
       "    }\n",
       "\n",
       "    .dataframe tbody tr th {\n",
       "        vertical-align: top;\n",
       "    }\n",
       "\n",
       "    .dataframe thead th {\n",
       "        text-align: right;\n",
       "    }\n",
       "</style>\n",
       "<table border=\"1\" class=\"dataframe\">\n",
       "  <thead>\n",
       "    <tr style=\"text-align: right;\">\n",
       "      <th></th>\n",
       "      <th>Datetime</th>\n",
       "      <th>Text</th>\n",
       "    </tr>\n",
       "  </thead>\n",
       "  <tbody>\n",
       "    <tr>\n",
       "      <th>0</th>\n",
       "      <td>2021-05-18 23:35:06+00:00</td>\n",
       "      <td>Conferred some doctoral degrees this morning w...</td>\n",
       "    </tr>\n",
       "    <tr>\n",
       "      <th>1</th>\n",
       "      <td>2021-05-18 23:19:27+00:00</td>\n",
       "      <td>Day One Hundred Sixty One - A little birdie.. ...</td>\n",
       "    </tr>\n",
       "    <tr>\n",
       "      <th>2</th>\n",
       "      <td>2021-05-18 23:10:16+00:00</td>\n",
       "      <td>- The May th Alliance stays over night in fron...</td>\n",
       "    </tr>\n",
       "    <tr>\n",
       "      <th>3</th>\n",
       "      <td>2021-05-18 22:56:51+00:00</td>\n",
       "      <td>I knew all those black squares on Instagram we...</td>\n",
       "    </tr>\n",
       "    <tr>\n",
       "      <th>4</th>\n",
       "      <td>2021-05-18 22:49:00+00:00</td>\n",
       "      <td>- The May th Alliance stays over night outside...</td>\n",
       "    </tr>\n",
       "    <tr>\n",
       "      <th>...</th>\n",
       "      <td>...</td>\n",
       "      <td>...</td>\n",
       "    </tr>\n",
       "    <tr>\n",
       "      <th>11223</th>\n",
       "      <td>2020-06-16 02:16:24+00:00</td>\n",
       "      <td>We also need to own that we like problematic s...</td>\n",
       "    </tr>\n",
       "    <tr>\n",
       "      <th>11224</th>\n",
       "      <td>2020-06-16 01:50:39+00:00</td>\n",
       "      <td>Man society is so fucking weak these days that...</td>\n",
       "    </tr>\n",
       "    <tr>\n",
       "      <th>11225</th>\n",
       "      <td>2020-06-16 00:36:32+00:00</td>\n",
       "      <td>trust me when i say, it is hard to adress the ...</td>\n",
       "    </tr>\n",
       "    <tr>\n",
       "      <th>11226</th>\n",
       "      <td>2020-06-16 00:35:38+00:00</td>\n",
       "      <td></td>\n",
       "    </tr>\n",
       "    <tr>\n",
       "      <th>11227</th>\n",
       "      <td>2020-06-16 00:22:08+00:00</td>\n",
       "      <td>Nope, mysogynist</td>\n",
       "    </tr>\n",
       "  </tbody>\n",
       "</table>\n",
       "<p>757621 rows × 2 columns</p>\n",
       "</div>"
      ],
      "text/plain": [
       "                        Datetime  \\\n",
       "0      2021-05-18 23:35:06+00:00   \n",
       "1      2021-05-18 23:19:27+00:00   \n",
       "2      2021-05-18 23:10:16+00:00   \n",
       "3      2021-05-18 22:56:51+00:00   \n",
       "4      2021-05-18 22:49:00+00:00   \n",
       "...                          ...   \n",
       "11223  2020-06-16 02:16:24+00:00   \n",
       "11224  2020-06-16 01:50:39+00:00   \n",
       "11225  2020-06-16 00:36:32+00:00   \n",
       "11226  2020-06-16 00:35:38+00:00   \n",
       "11227  2020-06-16 00:22:08+00:00   \n",
       "\n",
       "                                                    Text  \n",
       "0      Conferred some doctoral degrees this morning w...  \n",
       "1      Day One Hundred Sixty One - A little birdie.. ...  \n",
       "2      - The May th Alliance stays over night in fron...  \n",
       "3      I knew all those black squares on Instagram we...  \n",
       "4      - The May th Alliance stays over night outside...  \n",
       "...                                                  ...  \n",
       "11223  We also need to own that we like problematic s...  \n",
       "11224  Man society is so fucking weak these days that...  \n",
       "11225  trust me when i say, it is hard to adress the ...  \n",
       "11226                                                     \n",
       "11227                                   Nope, mysogynist  \n",
       "\n",
       "[757621 rows x 2 columns]"
      ]
     },
     "execution_count": 61,
     "metadata": {},
     "output_type": "execute_result"
    }
   ],
   "source": [
    "df"
   ]
  },
  {
   "cell_type": "code",
   "execution_count": 56,
   "metadata": {},
   "outputs": [
    {
     "data": {
      "text/html": [
       "<div>\n",
       "<style scoped>\n",
       "    .dataframe tbody tr th:only-of-type {\n",
       "        vertical-align: middle;\n",
       "    }\n",
       "\n",
       "    .dataframe tbody tr th {\n",
       "        vertical-align: top;\n",
       "    }\n",
       "\n",
       "    .dataframe thead th {\n",
       "        text-align: right;\n",
       "    }\n",
       "</style>\n",
       "<table border=\"1\" class=\"dataframe\">\n",
       "  <thead>\n",
       "    <tr style=\"text-align: right;\">\n",
       "      <th></th>\n",
       "      <th>index</th>\n",
       "      <th>Datetime</th>\n",
       "      <th>Text</th>\n",
       "    </tr>\n",
       "  </thead>\n",
       "  <tbody>\n",
       "    <tr>\n",
       "      <th>0</th>\n",
       "      <td>0</td>\n",
       "      <td>2021-05-18 23:35:06+00:00</td>\n",
       "      <td>Conferred some doctoral degrees this morning w...</td>\n",
       "    </tr>\n",
       "    <tr>\n",
       "      <th>1</th>\n",
       "      <td>1</td>\n",
       "      <td>2021-05-18 23:19:27+00:00</td>\n",
       "      <td>Day One Hundred Sixty One - A little birdie.. ...</td>\n",
       "    </tr>\n",
       "    <tr>\n",
       "      <th>2</th>\n",
       "      <td>2</td>\n",
       "      <td>2021-05-18 23:10:16+00:00</td>\n",
       "      <td>- The May th Alliance stays over night in fron...</td>\n",
       "    </tr>\n",
       "    <tr>\n",
       "      <th>3</th>\n",
       "      <td>3</td>\n",
       "      <td>2021-05-18 22:56:51+00:00</td>\n",
       "      <td>I knew all those black squares on Instagram we...</td>\n",
       "    </tr>\n",
       "    <tr>\n",
       "      <th>4</th>\n",
       "      <td>4</td>\n",
       "      <td>2021-05-18 22:49:00+00:00</td>\n",
       "      <td>- The May th Alliance stays over night outside...</td>\n",
       "    </tr>\n",
       "    <tr>\n",
       "      <th>...</th>\n",
       "      <td>...</td>\n",
       "      <td>...</td>\n",
       "      <td>...</td>\n",
       "    </tr>\n",
       "    <tr>\n",
       "      <th>757616</th>\n",
       "      <td>11223</td>\n",
       "      <td>2020-06-16 02:16:24+00:00</td>\n",
       "      <td>We also need to own that we like problematic s...</td>\n",
       "    </tr>\n",
       "    <tr>\n",
       "      <th>757617</th>\n",
       "      <td>11224</td>\n",
       "      <td>2020-06-16 01:50:39+00:00</td>\n",
       "      <td>Man society is so fucking weak these days that...</td>\n",
       "    </tr>\n",
       "    <tr>\n",
       "      <th>757618</th>\n",
       "      <td>11225</td>\n",
       "      <td>2020-06-16 00:36:32+00:00</td>\n",
       "      <td>trust me when i say, it is hard to adress the ...</td>\n",
       "    </tr>\n",
       "    <tr>\n",
       "      <th>757619</th>\n",
       "      <td>11226</td>\n",
       "      <td>2020-06-16 00:35:38+00:00</td>\n",
       "      <td></td>\n",
       "    </tr>\n",
       "    <tr>\n",
       "      <th>757620</th>\n",
       "      <td>11227</td>\n",
       "      <td>2020-06-16 00:22:08+00:00</td>\n",
       "      <td>Nope, mysogynist</td>\n",
       "    </tr>\n",
       "  </tbody>\n",
       "</table>\n",
       "<p>757621 rows × 3 columns</p>\n",
       "</div>"
      ],
      "text/plain": [
       "        index                   Datetime  \\\n",
       "0           0  2021-05-18 23:35:06+00:00   \n",
       "1           1  2021-05-18 23:19:27+00:00   \n",
       "2           2  2021-05-18 23:10:16+00:00   \n",
       "3           3  2021-05-18 22:56:51+00:00   \n",
       "4           4  2021-05-18 22:49:00+00:00   \n",
       "...       ...                        ...   \n",
       "757616  11223  2020-06-16 02:16:24+00:00   \n",
       "757617  11224  2020-06-16 01:50:39+00:00   \n",
       "757618  11225  2020-06-16 00:36:32+00:00   \n",
       "757619  11226  2020-06-16 00:35:38+00:00   \n",
       "757620  11227  2020-06-16 00:22:08+00:00   \n",
       "\n",
       "                                                     Text  \n",
       "0       Conferred some doctoral degrees this morning w...  \n",
       "1       Day One Hundred Sixty One - A little birdie.. ...  \n",
       "2       - The May th Alliance stays over night in fron...  \n",
       "3       I knew all those black squares on Instagram we...  \n",
       "4       - The May th Alliance stays over night outside...  \n",
       "...                                                   ...  \n",
       "757616  We also need to own that we like problematic s...  \n",
       "757617  Man society is so fucking weak these days that...  \n",
       "757618  trust me when i say, it is hard to adress the ...  \n",
       "757619                                                     \n",
       "757620                                   Nope, mysogynist  \n",
       "\n",
       "[757621 rows x 3 columns]"
      ]
     },
     "execution_count": 56,
     "metadata": {},
     "output_type": "execute_result"
    }
   ],
   "source": [
    "df.reset_index()"
   ]
  },
  {
   "cell_type": "code",
   "execution_count": 23,
   "metadata": {},
   "outputs": [],
   "source": [
    "df.to_csv('top10k_tweets.csv')"
   ]
  },
  {
   "cell_type": "code",
   "execution_count": 106,
   "metadata": {},
   "outputs": [],
   "source": [
    "df.to_csv('all_tweets59m.csv')"
   ]
  },
  {
   "cell_type": "code",
   "execution_count": 22,
   "metadata": {},
   "outputs": [],
   "source": [
    "df=df.head(n=10000)"
   ]
  },
  {
   "cell_type": "code",
   "execution_count": 8,
   "metadata": {},
   "outputs": [],
   "source": [
    "def preprocess_tweet(row):\n",
    "    text = row['Text']\n",
    "    text = p.clean(text)\n",
    "    return text"
   ]
  },
  {
   "cell_type": "code",
   "execution_count": 89,
   "metadata": {},
   "outputs": [],
   "source": [
    "df['Text'] = df.apply(preprocess_tweet, axis=1)"
   ]
  },
  {
   "cell_type": "code",
   "execution_count": 10,
   "metadata": {},
   "outputs": [
    {
     "data": {
      "text/html": [
       "<div>\n",
       "<style scoped>\n",
       "    .dataframe tbody tr th:only-of-type {\n",
       "        vertical-align: middle;\n",
       "    }\n",
       "\n",
       "    .dataframe tbody tr th {\n",
       "        vertical-align: top;\n",
       "    }\n",
       "\n",
       "    .dataframe thead th {\n",
       "        text-align: right;\n",
       "    }\n",
       "</style>\n",
       "<table border=\"1\" class=\"dataframe\">\n",
       "  <thead>\n",
       "    <tr style=\"text-align: right;\">\n",
       "      <th></th>\n",
       "      <th>Unnamed: 0</th>\n",
       "      <th>Datetime</th>\n",
       "      <th>Text</th>\n",
       "    </tr>\n",
       "  </thead>\n",
       "  <tbody>\n",
       "    <tr>\n",
       "      <th>0</th>\n",
       "      <td>0</td>\n",
       "      <td>2021-05-18 23:35:06+00:00</td>\n",
       "      <td>Conferred some doctoral degrees this morning w...</td>\n",
       "    </tr>\n",
       "    <tr>\n",
       "      <th>1</th>\n",
       "      <td>1</td>\n",
       "      <td>2021-05-18 23:19:27+00:00</td>\n",
       "      <td>Day One Hundred Sixty One - A little birdie.. ...</td>\n",
       "    </tr>\n",
       "    <tr>\n",
       "      <th>2</th>\n",
       "      <td>2</td>\n",
       "      <td>2021-05-18 23:10:16+00:00</td>\n",
       "      <td>- The May th Alliance stays over night in fron...</td>\n",
       "    </tr>\n",
       "    <tr>\n",
       "      <th>3</th>\n",
       "      <td>3</td>\n",
       "      <td>2021-05-18 22:56:51+00:00</td>\n",
       "      <td>I knew all those black squares on Instagram we...</td>\n",
       "    </tr>\n",
       "    <tr>\n",
       "      <th>4</th>\n",
       "      <td>4</td>\n",
       "      <td>2021-05-18 22:49:00+00:00</td>\n",
       "      <td>- The May th Alliance stays over night outside...</td>\n",
       "    </tr>\n",
       "  </tbody>\n",
       "</table>\n",
       "</div>"
      ],
      "text/plain": [
       "  Unnamed: 0                   Datetime  \\\n",
       "0          0  2021-05-18 23:35:06+00:00   \n",
       "1          1  2021-05-18 23:19:27+00:00   \n",
       "2          2  2021-05-18 23:10:16+00:00   \n",
       "3          3  2021-05-18 22:56:51+00:00   \n",
       "4          4  2021-05-18 22:49:00+00:00   \n",
       "\n",
       "                                                Text  \n",
       "0  Conferred some doctoral degrees this morning w...  \n",
       "1  Day One Hundred Sixty One - A little birdie.. ...  \n",
       "2  - The May th Alliance stays over night in fron...  \n",
       "3  I knew all those black squares on Instagram we...  \n",
       "4  - The May th Alliance stays over night outside...  "
      ]
     },
     "execution_count": 10,
     "metadata": {},
     "output_type": "execute_result"
    }
   ],
   "source": [
    "df.head()"
   ]
  },
  {
   "cell_type": "code",
   "execution_count": 44,
   "metadata": {},
   "outputs": [
    {
     "name": "stdout",
     "output_type": "stream",
     "text": [
      "Requirement already satisfied: gensim in e:\\anaconda\\lib\\site-packages (4.0.1)\n",
      "Requirement already satisfied: scipy>=0.18.1 in e:\\anaconda\\lib\\site-packages (from gensim) (1.5.2)\n",
      "Requirement already satisfied: Cython==0.29.21 in e:\\anaconda\\lib\\site-packages (from gensim) (0.29.21)\n",
      "Requirement already satisfied: smart-open>=1.8.1 in e:\\anaconda\\lib\\site-packages (from gensim) (5.1.0)\n",
      "Requirement already satisfied: numpy>=1.11.3 in e:\\anaconda\\lib\\site-packages (from gensim) (1.19.2)\n"
     ]
    }
   ],
   "source": [
    "!pip install gensim"
   ]
  },
  {
   "cell_type": "code",
   "execution_count": 108,
   "metadata": {},
   "outputs": [],
   "source": [
    "from gensim.parsing.preprocessing import remove_stopwords"
   ]
  },
  {
   "cell_type": "code",
   "execution_count": 155,
   "metadata": {},
   "outputs": [],
   "source": [
    "def stopword_removal(row):\n",
    "    text = row['Text']\n",
    "    text = remove_stopwords(text)\n",
    "    return text"
   ]
  },
  {
   "cell_type": "code",
   "execution_count": 156,
   "metadata": {},
   "outputs": [],
   "source": [
    "train_df['Text'] = train_df.apply(stopword_removal, axis=1)"
   ]
  },
  {
   "cell_type": "code",
   "execution_count": 62,
   "metadata": {},
   "outputs": [],
   "source": [
    "df['Text'] = df['Text'].str.lower().str.replace('[^\\w\\s]',' ').str.replace('\\s\\s+', ' ')"
   ]
  },
  {
   "cell_type": "code",
   "execution_count": 484,
   "metadata": {},
   "outputs": [
    {
     "data": {
      "text/html": [
       "<div>\n",
       "<style scoped>\n",
       "    .dataframe tbody tr th:only-of-type {\n",
       "        vertical-align: middle;\n",
       "    }\n",
       "\n",
       "    .dataframe tbody tr th {\n",
       "        vertical-align: top;\n",
       "    }\n",
       "\n",
       "    .dataframe thead th {\n",
       "        text-align: right;\n",
       "    }\n",
       "</style>\n",
       "<table border=\"1\" class=\"dataframe\">\n",
       "  <thead>\n",
       "    <tr style=\"text-align: right;\">\n",
       "      <th></th>\n",
       "      <th>Unnamed: 0</th>\n",
       "      <th>Datetime</th>\n",
       "      <th>Text</th>\n",
       "    </tr>\n",
       "  </thead>\n",
       "  <tbody>\n",
       "    <tr>\n",
       "      <th>0</th>\n",
       "      <td>0</td>\n",
       "      <td>2021-05-18 23:35:06+00:00</td>\n",
       "      <td>conferred some doctoral degrees this morning w...</td>\n",
       "    </tr>\n",
       "    <tr>\n",
       "      <th>1</th>\n",
       "      <td>1</td>\n",
       "      <td>2021-05-18 23:19:27+00:00</td>\n",
       "      <td>day one hundred sixty one a little birdie frid...</td>\n",
       "    </tr>\n",
       "    <tr>\n",
       "      <th>2</th>\n",
       "      <td>2</td>\n",
       "      <td>2021-05-18 23:10:16+00:00</td>\n",
       "      <td>the may th alliance stays over night in front...</td>\n",
       "    </tr>\n",
       "    <tr>\n",
       "      <th>3</th>\n",
       "      <td>3</td>\n",
       "      <td>2021-05-18 22:56:51+00:00</td>\n",
       "      <td>i knew all those black squares on instagram we...</td>\n",
       "    </tr>\n",
       "    <tr>\n",
       "      <th>4</th>\n",
       "      <td>4</td>\n",
       "      <td>2021-05-18 22:49:00+00:00</td>\n",
       "      <td>the may th alliance stays over night outside ...</td>\n",
       "    </tr>\n",
       "  </tbody>\n",
       "</table>\n",
       "</div>"
      ],
      "text/plain": [
       "   Unnamed: 0                   Datetime  \\\n",
       "0           0  2021-05-18 23:35:06+00:00   \n",
       "1           1  2021-05-18 23:19:27+00:00   \n",
       "2           2  2021-05-18 23:10:16+00:00   \n",
       "3           3  2021-05-18 22:56:51+00:00   \n",
       "4           4  2021-05-18 22:49:00+00:00   \n",
       "\n",
       "                                                Text  \n",
       "0  conferred some doctoral degrees this morning w...  \n",
       "1  day one hundred sixty one a little birdie frid...  \n",
       "2   the may th alliance stays over night in front...  \n",
       "3  i knew all those black squares on instagram we...  \n",
       "4   the may th alliance stays over night outside ...  "
      ]
     },
     "execution_count": 484,
     "metadata": {},
     "output_type": "execute_result"
    }
   ],
   "source": [
    "df.head()"
   ]
  },
  {
   "cell_type": "code",
   "execution_count": 90,
   "metadata": {},
   "outputs": [],
   "source": [
    "df['Text'] = df['Text'].dropna()\n"
   ]
  },
  {
   "cell_type": "code",
   "execution_count": 500,
   "metadata": {},
   "outputs": [
    {
     "data": {
      "text/html": [
       "<div>\n",
       "<style scoped>\n",
       "    .dataframe tbody tr th:only-of-type {\n",
       "        vertical-align: middle;\n",
       "    }\n",
       "\n",
       "    .dataframe tbody tr th {\n",
       "        vertical-align: top;\n",
       "    }\n",
       "\n",
       "    .dataframe thead th {\n",
       "        text-align: right;\n",
       "    }\n",
       "</style>\n",
       "<table border=\"1\" class=\"dataframe\">\n",
       "  <thead>\n",
       "    <tr style=\"text-align: right;\">\n",
       "      <th></th>\n",
       "      <th>Unnamed: 0</th>\n",
       "      <th>Datetime</th>\n",
       "      <th>Text</th>\n",
       "    </tr>\n",
       "  </thead>\n",
       "  <tbody>\n",
       "    <tr>\n",
       "      <th>167</th>\n",
       "      <td>17</td>\n",
       "      <td>2021-05-18 18:53:29+00:00</td>\n",
       "      <td>against all white for against for worse will ...</td>\n",
       "    </tr>\n",
       "    <tr>\n",
       "      <th>294</th>\n",
       "      <td>14</td>\n",
       "      <td>2021-05-31 23:16:21+00:00</td>\n",
       "      <td>mundinho lgbt bh a maior organizao criminosa d...</td>\n",
       "    </tr>\n",
       "    <tr>\n",
       "      <th>286</th>\n",
       "      <td>27</td>\n",
       "      <td>2021-05-18 23:38:35+00:00</td>\n",
       "      <td>he also thinks his inability to form a relatio...</td>\n",
       "    </tr>\n",
       "    <tr>\n",
       "      <th>64</th>\n",
       "      <td>17</td>\n",
       "      <td>2021-05-18 23:47:42+00:00</td>\n",
       "      <td>why not it seems you clearly dont know what fe...</td>\n",
       "    </tr>\n",
       "    <tr>\n",
       "      <th>256</th>\n",
       "      <td>36</td>\n",
       "      <td>2021-05-18 23:44:16+00:00</td>\n",
       "      <td>my nigga iced his teeth out i had to put it on...</td>\n",
       "    </tr>\n",
       "  </tbody>\n",
       "</table>\n",
       "</div>"
      ],
      "text/plain": [
       "     Unnamed: 0                   Datetime  \\\n",
       "167          17  2021-05-18 18:53:29+00:00   \n",
       "294          14  2021-05-31 23:16:21+00:00   \n",
       "286          27  2021-05-18 23:38:35+00:00   \n",
       "64           17  2021-05-18 23:47:42+00:00   \n",
       "256          36  2021-05-18 23:44:16+00:00   \n",
       "\n",
       "                                                  Text  \n",
       "167   against all white for against for worse will ...  \n",
       "294  mundinho lgbt bh a maior organizao criminosa d...  \n",
       "286  he also thinks his inability to form a relatio...  \n",
       "64   why not it seems you clearly dont know what fe...  \n",
       "256  my nigga iced his teeth out i had to put it on...  "
      ]
     },
     "execution_count": 500,
     "metadata": {},
     "output_type": "execute_result"
    }
   ],
   "source": [
    "df.head()"
   ]
  },
  {
   "cell_type": "code",
   "execution_count": 98,
   "metadata": {},
   "outputs": [
    {
     "data": {
      "text/plain": [
       "Datetime    596697\n",
       "Text        596697\n",
       "dtype: int64"
      ]
     },
     "execution_count": 98,
     "metadata": {},
     "output_type": "execute_result"
    }
   ],
   "source": [
    "df.count()"
   ]
  },
  {
   "cell_type": "code",
   "execution_count": null,
   "metadata": {},
   "outputs": [],
   "source": []
  },
  {
   "cell_type": "code",
   "execution_count": 298,
   "metadata": {},
   "outputs": [
    {
     "name": "stderr",
     "output_type": "stream",
     "text": [
      "<ipython-input-298-e8e73ba79478>:1: SettingWithCopyWarning: \n",
      "A value is trying to be set on a copy of a slice from a DataFrame\n",
      "\n",
      "See the caveats in the documentation: https://pandas.pydata.org/pandas-docs/stable/user_guide/indexing.html#returning-a-view-versus-a-copy\n",
      "  df=df.dropna(axis=0,inplace=True)\n"
     ]
    }
   ],
   "source": [
    "#df=df.dropna(axis=0,inplace=True)"
   ]
  },
  {
   "cell_type": "code",
   "execution_count": 64,
   "metadata": {},
   "outputs": [
    {
     "data": {
      "text/plain": [
       "0"
      ]
     },
     "execution_count": 64,
     "metadata": {},
     "output_type": "execute_result"
    }
   ],
   "source": [
    "df['Text'].isnull().sum()"
   ]
  },
  {
   "cell_type": "code",
   "execution_count": 396,
   "metadata": {},
   "outputs": [],
   "source": [
    "df.to_csv('Primary_annotation7.csv')"
   ]
  },
  {
   "cell_type": "code",
   "execution_count": 382,
   "metadata": {},
   "outputs": [],
   "source": [
    "df=pd.read_csv('/Users/Asus/Desktop/THESIS/Primary_annotation.csv')"
   ]
  },
  {
   "cell_type": "code",
   "execution_count": 65,
   "metadata": {},
   "outputs": [],
   "source": [
    "df=df[['Datetime','Text']]"
   ]
  },
  {
   "cell_type": "code",
   "execution_count": 455,
   "metadata": {},
   "outputs": [],
   "source": [
    "df=df.head( n=200)"
   ]
  },
  {
   "cell_type": "code",
   "execution_count": 8,
   "metadata": {},
   "outputs": [],
   "source": [
    "df.to_csv('Primary_annotation11.csv')"
   ]
  },
  {
   "cell_type": "code",
   "execution_count": 458,
   "metadata": {},
   "outputs": [],
   "source": [
    "df5['Text'] = df5.apply(preprocess_tweet, axis=1)"
   ]
  },
  {
   "cell_type": "code",
   "execution_count": 459,
   "metadata": {},
   "outputs": [],
   "source": [
    "df5['Text'] = df5['Text'].str.lower().str.replace('[^\\w\\s]',' ').str.replace('\\s\\s+', ' ')"
   ]
  },
  {
   "cell_type": "code",
   "execution_count": 40,
   "metadata": {},
   "outputs": [
    {
     "data": {
      "text/plain": [
       "Unnamed: 0    0\n",
       "Datetime      0\n",
       "Text          0\n",
       "dtype: int64"
      ]
     },
     "execution_count": 40,
     "metadata": {},
     "output_type": "execute_result"
    }
   ],
   "source": [
    "df5.isnull().sum()"
   ]
  },
  {
   "cell_type": "code",
   "execution_count": 92,
   "metadata": {},
   "outputs": [],
   "source": [
    "#df['Text'] = df['Text'].dropna()\n",
    "df['Text'] = df['Text'].drop_duplicates(keep='first', inplace=False)"
   ]
  },
  {
   "cell_type": "code",
   "execution_count": 20,
   "metadata": {},
   "outputs": [],
   "source": [
    "df=df.dropna()"
   ]
  },
  {
   "cell_type": "code",
   "execution_count": 67,
   "metadata": {},
   "outputs": [],
   "source": [
    "df.loc[~df.index.duplicated(), :]"
   ]
  },
  {
   "cell_type": "code",
   "execution_count": 467,
   "metadata": {},
   "outputs": [],
   "source": [
    "df5=df5.head( n=100)"
   ]
  },
  {
   "cell_type": "code",
   "execution_count": 468,
   "metadata": {},
   "outputs": [],
   "source": [
    "df=df.append(df5)"
   ]
  },
  {
   "cell_type": "code",
   "execution_count": 93,
   "metadata": {},
   "outputs": [],
   "source": [
    "df['Text'] = df['Text'].drop_duplicates()"
   ]
  },
  {
   "cell_type": "code",
   "execution_count": 94,
   "metadata": {},
   "outputs": [
    {
     "data": {
      "text/plain": [
       "Unnamed: 0    739196\n",
       "Datetime      739196\n",
       "Text          596697\n",
       "dtype: int64"
      ]
     },
     "execution_count": 94,
     "metadata": {},
     "output_type": "execute_result"
    }
   ],
   "source": [
    "df.count()"
   ]
  },
  {
   "cell_type": "code",
   "execution_count": 82,
   "metadata": {},
   "outputs": [
    {
     "data": {
      "text/html": [
       "<div>\n",
       "<style scoped>\n",
       "    .dataframe tbody tr th:only-of-type {\n",
       "        vertical-align: middle;\n",
       "    }\n",
       "\n",
       "    .dataframe tbody tr th {\n",
       "        vertical-align: top;\n",
       "    }\n",
       "\n",
       "    .dataframe thead th {\n",
       "        text-align: right;\n",
       "    }\n",
       "</style>\n",
       "<table border=\"1\" class=\"dataframe\">\n",
       "  <thead>\n",
       "    <tr style=\"text-align: right;\">\n",
       "      <th></th>\n",
       "      <th>Datetime</th>\n",
       "      <th>Text</th>\n",
       "    </tr>\n",
       "  </thead>\n",
       "  <tbody>\n",
       "    <tr>\n",
       "      <th>0</th>\n",
       "      <td>2021-05-18 23:59:52+00:00</td>\n",
       "      <td>Feminism isnt about making women strong. Women...</td>\n",
       "    </tr>\n",
       "    <tr>\n",
       "      <th>1</th>\n",
       "      <td>2021-05-18 23:59:49+00:00</td>\n",
       "      <td>I did not miss Senator Slama taking up the man...</td>\n",
       "    </tr>\n",
       "    <tr>\n",
       "      <th>2</th>\n",
       "      <td>2021-05-18 23:59:37+00:00</td>\n",
       "      <td>wakey wakey beardy and feminism</td>\n",
       "    </tr>\n",
       "    <tr>\n",
       "      <th>3</th>\n",
       "      <td>2021-05-18 23:57:27+00:00</td>\n",
       "      <td>Philosopher is a great writer and a clear thin...</td>\n",
       "    </tr>\n",
       "    <tr>\n",
       "      <th>4</th>\n",
       "      <td>2021-05-18 23:56:21+00:00</td>\n",
       "      <td>Tell me more about and Tell me more about move...</td>\n",
       "    </tr>\n",
       "    <tr>\n",
       "      <th>...</th>\n",
       "      <td>...</td>\n",
       "      <td>...</td>\n",
       "    </tr>\n",
       "    <tr>\n",
       "      <th>11223</th>\n",
       "      <td>2020-06-16 02:16:24+00:00</td>\n",
       "      <td>We also need to own that we like problematic s...</td>\n",
       "    </tr>\n",
       "    <tr>\n",
       "      <th>11224</th>\n",
       "      <td>2020-06-16 01:50:39+00:00</td>\n",
       "      <td>Man society is so fucking weak these days that...</td>\n",
       "    </tr>\n",
       "    <tr>\n",
       "      <th>11225</th>\n",
       "      <td>2020-06-16 00:36:32+00:00</td>\n",
       "      <td>trust me when i say, it is hard to adress the ...</td>\n",
       "    </tr>\n",
       "    <tr>\n",
       "      <th>11226</th>\n",
       "      <td>2020-06-16 00:35:38+00:00</td>\n",
       "      <td></td>\n",
       "    </tr>\n",
       "    <tr>\n",
       "      <th>11227</th>\n",
       "      <td>2020-06-16 00:22:08+00:00</td>\n",
       "      <td>Nope, mysogynist</td>\n",
       "    </tr>\n",
       "  </tbody>\n",
       "</table>\n",
       "<p>653635 rows × 2 columns</p>\n",
       "</div>"
      ],
      "text/plain": [
       "                        Datetime  \\\n",
       "0      2021-05-18 23:59:52+00:00   \n",
       "1      2021-05-18 23:59:49+00:00   \n",
       "2      2021-05-18 23:59:37+00:00   \n",
       "3      2021-05-18 23:57:27+00:00   \n",
       "4      2021-05-18 23:56:21+00:00   \n",
       "...                          ...   \n",
       "11223  2020-06-16 02:16:24+00:00   \n",
       "11224  2020-06-16 01:50:39+00:00   \n",
       "11225  2020-06-16 00:36:32+00:00   \n",
       "11226  2020-06-16 00:35:38+00:00   \n",
       "11227  2020-06-16 00:22:08+00:00   \n",
       "\n",
       "                                                    Text  \n",
       "0      Feminism isnt about making women strong. Women...  \n",
       "1      I did not miss Senator Slama taking up the man...  \n",
       "2                        wakey wakey beardy and feminism  \n",
       "3      Philosopher is a great writer and a clear thin...  \n",
       "4      Tell me more about and Tell me more about move...  \n",
       "...                                                  ...  \n",
       "11223  We also need to own that we like problematic s...  \n",
       "11224  Man society is so fucking weak these days that...  \n",
       "11225  trust me when i say, it is hard to adress the ...  \n",
       "11226                                                     \n",
       "11227                                   Nope, mysogynist  \n",
       "\n",
       "[653635 rows x 2 columns]"
      ]
     },
     "execution_count": 82,
     "metadata": {},
     "output_type": "execute_result"
    }
   ],
   "source": [
    "df[df.index.duplicated()]"
   ]
  },
  {
   "cell_type": "code",
   "execution_count": 95,
   "metadata": {},
   "outputs": [],
   "source": [
    "df=df[['Datetime','Text']]"
   ]
  },
  {
   "cell_type": "code",
   "execution_count": null,
   "metadata": {},
   "outputs": [],
   "source": []
  }
 ],
 "metadata": {
  "kernelspec": {
   "display_name": "Python 3",
   "language": "python",
   "name": "python3"
  },
  "language_info": {
   "codemirror_mode": {
    "name": "ipython",
    "version": 3
   },
   "file_extension": ".py",
   "mimetype": "text/x-python",
   "name": "python",
   "nbconvert_exporter": "python",
   "pygments_lexer": "ipython3",
   "version": "3.8.5"
  }
 },
 "nbformat": 4,
 "nbformat_minor": 4
}
